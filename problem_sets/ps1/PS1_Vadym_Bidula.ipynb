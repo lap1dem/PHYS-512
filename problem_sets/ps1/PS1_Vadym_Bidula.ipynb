{
 "cells": [
  {
   "cell_type": "code",
   "execution_count": 21,
   "id": "a6ae3092",
   "metadata": {},
   "outputs": [],
   "source": [
    "import numpy as np\n",
    "import matplotlib.pyplot as plt\n",
    "from scipy.interpolate import splrep, splev"
   ]
  },
  {
   "cell_type": "markdown",
   "id": "dbe08bb5",
   "metadata": {},
   "source": [
    "# Problem 1\n",
    "\n",
    "## a) \n",
    "\n",
    "Taylor series for $f(x + \\delta) - f(x - \\delta)$:\n",
    "\n",
    "$\n",
    "f(x + \\delta) - f(x - \\delta) \\simeq f_0(x) + f'(x) \\delta + f''(x) \\frac{\\delta^2}{2} + f'''(x) \\frac{\\delta^3}{6} + f^{(4)}(x) \\frac{\\delta^4}{24} + f^{(5)}(x) \\frac{\\delta^5}{120} - \\left(f_0(x) - f'(x) \\delta + f''(x) \\frac{\\delta^2}{2} - f'''(x) \\frac{\\delta^3}{6} + f^{(4)}(x) \\frac{\\delta^4}{24} - f^{(5)}(x) \\frac{\\delta^5}{120}\\right) = 2 \\delta f'(x) + \\frac{\\delta^3}{3} f'''(x) + \\frac{\\delta^5}{60} \\;\n",
    "$\n",
    "\n",
    "Same approach for $f(x + 2 \\delta) - f(x - 2 \\delta)$:\n",
    "\n",
    "$\n",
    "f(x + 2 \\delta) - f(x - 2 \\delta) \\simeq ... = 4 \\delta f'(x) + \\frac{8 \\delta^3}{3} f'''(x) + \\frac{32 \\delta^5}{60} \\;\n",
    "$\n",
    "\n",
    "To cancel $f'''$ let's do 8 * (first eq.) - (second eq.):\n",
    "\n",
    "$\n",
    "8 * (f(x + \\delta) - f(x - \\delta)) - (f(x + 2 \\delta) - f(x - 2 \\delta)) = ... = 16 \\delta f'(x) + \\frac{8 \\delta^3}{3} f'''(x) + \\frac{8 \\delta^5}{60} - 4 \\delta f'(x) - \\frac{8 \\delta^3}{3} f'''(x) - \\frac{32 \\delta^5}{60} = 12 \\delta f'(x) - \\frac{12}{30} f^{(5)}(x)\n",
    "$\n",
    "\n",
    "Finally, after dropping $f^{(5)}(x)$:\n",
    "\n",
    "$\n",
    "f'(x) = \\frac{8 \\cdot(f(x + \\delta) - f(x - \\delta)) - f(x + 2 \\delta) + f(x - 2 \\delta)}{12 \\delta}\n",
    "$\n",
    "\n",
    "## b)\n",
    "\n",
    "Truncation error:\n",
    "\n",
    "$\n",
    "e_t = \\frac{1}{30} \\delta^4 f^{(5)}(x)\n",
    "$\n",
    "\n",
    "Roundoff error:\n",
    "\n",
    "$\n",
    "e_r = \\frac{\\left( \\frac{8 f(x) g_+ \\epsilon}{\\delta} - \\frac{8 f(x) g_- \\epsilon}{\\delta} - \\frac{f(x) g_{2+} \\epsilon}{\\delta} + \\frac{f(x) g_{2-} \\epsilon}{\\delta}\\right)}{12 \\delta} = \\frac{f(x) \\epsilon}{\\delta^2} \\left( \\frac{8}{12} (g_+ - g_-) + \\frac{1}{12} (g_{2-} - g_{2+}) \\right)\n",
    "$\n",
    "\n",
    "The worst case scenario is when $g_+ = 1$, $g_- = -1$, $g_{2-} = 1 $, $ g_{2+} = -1$:\n",
    "\n",
    "$\n",
    "e_r = \\frac{f(x) \\epsilon}{\\delta^2} \\left( \\frac{16}{12} + \\frac{2}{12} \\right) = \\frac{3}{2} \\frac{f(x) \\epsilon}{\\delta^2}\n",
    "$\n",
    "\n",
    "Full error then:\n",
    "\n",
    "$\n",
    "e = e_t + e_r\n",
    "$\n",
    "\n",
    "$\n",
    "\\frac{d e}{dx} = \\frac{4}{30} \\delta^3 f^{(5)}(x) - \\frac{3}{2}  \\frac{\\varepsilon f(x)}{\\delta^2} = 0\n",
    "$\n",
    "\n",
    "$\n",
    "\\delta = \\left( \\frac{90}{8} \\frac{\\varepsilon f(x)}{f^{(5)}(x)} \\right)^{1/5} \\simeq 1.6 \\left(\\frac{\\varepsilon f(x)}{f^{(5)}(x)} \\right)^{1/5} \n",
    "$\n",
    "\n",
    "For $\\exp (a x)$:\n",
    "\n",
    "$\n",
    "f^{(5)}(ax) = a^5 \\exp (ax)\n",
    "$\n",
    "\n",
    "$\n",
    "\\delta = \\frac{1.6}{a} \\varepsilon^{1/5}\n",
    "$"
   ]
  },
  {
   "cell_type": "code",
   "execution_count": 22,
   "id": "c9263e32",
   "metadata": {
    "scrolled": true
   },
   "outputs": [
    {
     "data": {
      "image/png": "[encoded data removed]",
      "text/plain": [
       "<Figure size 432x288 with 1 Axes>"
      ]
     },
     "metadata": {
      "needs_background": "light"
     },
     "output_type": "display_data"
    },
    {
     "data": {
      "image/png": "[encoded data removed]",
      "text/plain": [
       "<Figure size 432x288 with 1 Axes>"
      ]
     },
     "metadata": {
      "needs_background": "light"
     },
     "output_type": "display_data"
    }
   ],
   "source": [
    "def four_point_drv(func, x, dx):\n",
    "    \"\"\"\n",
    "    Implementation of four-point derivative from notes\n",
    "    \"\"\"\n",
    "    return (8 * (func(x + dx) - func(x - dx)) - func(x + 2 * dx) + func(x - 2 * dx)) / (12 * dx)\n",
    "\n",
    "\n",
    "# Constants\n",
    "eps = np.finfo(np.float64).eps\n",
    "x0 = 1\n",
    "a1 = 1\n",
    "a2 = 0.01\n",
    "\n",
    "f1 = lambda x: np.exp(a1 * x)\n",
    "f2 = lambda x: np.exp(a2 * x)\n",
    "\n",
    "# exp(x)\n",
    "dx_opt1 = 1.6 * np.power(eps, 0.2) / a1\n",
    "dx1 = np.logspace(np.log10(dx_opt1) - 2, np.log10(dx_opt1) + 2, 100)\n",
    "dfdx1 = four_point_drv(f1, x0, dx1)\n",
    "err1 = np.abs(dfdx1 - f1(x0) * a1)\n",
    "\n",
    "plt.scatter(dx1, err1, s = 3)\n",
    "plt.vlines(dx_opt1, np.min(err1), np.max(err1), color='r', label=r\"$dx_{opt}$\")\n",
    "plt.title(r\"Error vs dx for $\\exp(x)$\")\n",
    "plt.ylabel(r\"$|e|$\")\n",
    "plt.xlabel(r\"$dx$\")\n",
    "plt.yscale('log')\n",
    "plt.xscale('log')\n",
    "plt.legend()\n",
    "plt.show()\n",
    "\n",
    "\n",
    "# exp(0.01 x)\n",
    "dx_opt2 = 1.6 * np.power(eps, 0.2) / a2\n",
    "dx2 = np.logspace(np.log10(dx_opt2) - 2, np.log10(dx_opt2) + 2, 100)\n",
    "dfdx2 = four_point_drv(f2, x0, dx2)\n",
    "err2 = np.abs(dfdx2 - f2(x0) * a2)\n",
    "\n",
    "plt.scatter(dx2, err2, s = 3)\n",
    "plt.vlines(dx_opt2, np.min(err2), np.max(err2), color='r', label=r\"$dx_{opt}$\")\n",
    "plt.title(r\"Error vs dx for $\\exp(0.01 x)$\")\n",
    "plt.ylabel(r\"$|e|$\")\n",
    "plt.xlabel(r\"$dx$\")\n",
    "plt.yscale('log')\n",
    "plt.xscale('log')\n",
    "plt.legend()\n",
    "plt.show()\n"
   ]
  },
  {
   "cell_type": "markdown",
   "id": "3f2054a6",
   "metadata": {},
   "source": [
    "# Problem 2\n",
    "\n",
    "For 2-sided derivative full errors is:\n",
    "\n",
    "$\n",
    "e \\simeq \\frac{\\varepsilon f(x)}{dx} + d^2x f'''(x)\n",
    "$\n",
    "\n",
    "$\n",
    "\\frac{de}{dx} = \\frac{\\varepsilon f(x)}{dx^2} + dx f'''(x) = 0\n",
    "$\n",
    "\n",
    "So $dx$ then is:\n",
    "\n",
    "$\n",
    "dx = \\left(\\frac{\\varepsilon f(x)}{f'''(x)}\\right)^{1/3}\n",
    "$\n",
    "\n",
    "Let's substitute dx into expression for e:\n",
    "\n",
    "$\n",
    "e = \\varepsilon f(x) \\left(\\frac{f'''(x)}{\\varepsilon f(x)}\\right)^{1/3} + f'''(x) \\left(\\frac{\\varepsilon f(x)}{f'''(x)}\\right)^{2/3} = ... = 2 \\varepsilon^{2/3} f(x)^{2/3}  f''' (x)^{1/3} \\sim 2 \\varepsilon^{2/3} f(x)\n",
    "$\n",
    "\n",
    "Also, for rough estimation:\n",
    "\n",
    "$\n",
    "dx = \\left(\\frac{\\varepsilon f(x)}{f'''(x)}\\right)^{1/3} = \\varepsilon^{1/3}\n",
    "$"
   ]
  },
  {
   "cell_type": "code",
   "execution_count": 23,
   "id": "b691afba",
   "metadata": {
    "scrolled": true
   },
   "outputs": [
    {
     "data": {
      "image/png": "[encoded data removed]",
      "text/plain": [
       "<Figure size 432x288 with 1 Axes>"
      ]
     },
     "metadata": {
      "needs_background": "light"
     },
     "output_type": "display_data"
    },
    {
     "data": {
      "image/png": "[encoded data removed]",
      "text/plain": [
       "<Figure size 432x288 with 1 Axes>"
      ]
     },
     "metadata": {
      "needs_background": "light"
     },
     "output_type": "display_data"
    }
   ],
   "source": [
    "def ndiff(fun, x, full=False):\n",
    "    \"\"\"\n",
    "    The code is fully vectorized, so X can be either float or 1D np.array\n",
    "    \"\"\"\n",
    "    if type(x) == np.ndarray:\n",
    "        eps = np.finfo(x[0]).eps\n",
    "    else:\n",
    "        eps = np.finfo(x).eps\n",
    "\n",
    "    dx = np.power(eps, 1. / 3.)\n",
    "    drv = (fun(x + dx) - fun(x - dx)) / (2 * dx)\n",
    "    \n",
    "    if not full:\n",
    "        return drv\n",
    "    \n",
    "    err = np.abs(2 * pow(eps, 2. / 3.) * fun(x))\n",
    "    return drv, dx, err\n",
    "    \n",
    "\n",
    "# Test for sin(x)\n",
    "x = np.linspace(0, 2 * np.pi, 100)\n",
    "y_drv, dx, y_err = ndiff(np.sin, x, full=True)\n",
    "\n",
    "plt.plot(x, np.cos(x), c='k', label='True derivative')\n",
    "plt.scatter(x, y_drv, s=10,  c='red', label='Estimated derivative')\n",
    "plt.title('Comparing derivatives')\n",
    "plt.legend()\n",
    "plt.show()\n",
    "\n",
    "plt.scatter(x, np.cos(x) - y_drv, label='Error of calculation')\n",
    "plt.hlines(0, np.min(x), np.max(x), color='k', linestyle='--')\n",
    "plt.hlines([np.mean(y_err), -np.mean(y_err)], np.min(x), np.max(x), color='r', label='Mean estimated error')\n",
    "plt.legend()\n",
    "plt.title(r\"$f'(x)_{true} - f'(x)_{estimated}$\")\n",
    "plt.show()"
   ]
  },
  {
   "cell_type": "markdown",
   "id": "bf49ecd6",
   "metadata": {},
   "source": [
    "# Problem 3\n",
    "\n",
    "For interpolation __[Cubic Hermite splines](https://en.wikipedia.org/wiki/Cubic_Hermite_spline)__ were used. First derivative $\\frac{dV}{dT}$ is rapidly changing on some intervals. Basic polynomial interpolation could ''jiggle'' between some points. Cubic Hermite splines are applied for each interval $(x_i, x_{i+1})$ separately using first derivatives, which means more precise interpolation in ''problematic'' intervals. \n",
    "\n",
    "Since cubic hermite splines require only two points (and two derivatives) for interpolation, we could use points [1:-1] for error estimation. For i in range(1, N), we remove the $x_i$ and estimate $y'_i$ from interpolation between $x_{i-1}$ and $x_{i+1}$. The absolute error in each point is $\\varepsilon_i = |y_i - y'_i|$. Finally, total error is $\\varepsilon = \\sqrt{\\frac{\\sum_{i=1}^{N-1}\\varepsilon_i^2}{N-2-1}}$. Obviosly, that will overestimate the error, but we can use it as an ''upper limit'' of the true error. \n",
    "\n",
    "In case of Lakeshore, $T$ is given with accuracy $\\sim 0.1$ and the calculated upper limit of error $\\approx 0.2$, which is acceptable for this problem."
   ]
  },
  {
   "cell_type": "code",
   "execution_count": 24,
   "id": "93d2e69f",
   "metadata": {
    "scrolled": true
   },
   "outputs": [
    {
     "data": {
      "image/png": "[encoded data removed]",
      "text/plain": [
       "<Figure size 432x288 with 1 Axes>"
      ]
     },
     "metadata": {
      "needs_background": "light"
     },
     "output_type": "display_data"
    }
   ],
   "source": [
    "def chspline(x, x0, x1, y0, y1, m0, m1):\n",
    "    \"\"\"\n",
    "    Implementation of the Cubic Hermite splines algorithm from Wikipedia\n",
    "    \"\"\"\n",
    "    t = (x - x0) / (x1 - x0)\n",
    "    t2 = t*t\n",
    "    t3 = t2*t\n",
    "    h00 = 2 * t3 - 3 * t2 + 1\n",
    "    h10 = t3 - 2 * t2 + t\n",
    "    h01 = -2 * t3 + 3 * t2\n",
    "    h11 = t3 - t2\n",
    "    \n",
    "    return h00 * y0 + (x1 - x0) * (h10 * m0 + h11 * m1) + h01 * y1\n",
    "\n",
    "\n",
    "def lakeshore(V, data, return_error=False):\n",
    "    \"\"\"\n",
    "    The code is fully vectorized, so V can be either float or 1D np.array\n",
    "    \"\"\"\n",
    "    t_data = data[:, 0]\n",
    "    v_data = data[:, 1]\n",
    "    \n",
    "#     dV/dT -> dT/dV\n",
    "    dtdv_data = 1. / data[:, 2]\n",
    "    \n",
    "#     np.searchsorted returns the potential position of an element in the sorted array. \n",
    "#     I use it to find the index of the right-side neighbour. The minus before is because of the v_data, \n",
    "#     which is sorted in descending order. We first invert it with v_data[::-1] to find the\n",
    "#     index in inverted array, but to use with non-inverted data we must invert index with '-'.\n",
    "    idx = -np.searchsorted(v_data[::-1], V)\n",
    "    \n",
    "    if any(np.in1d([0, -len(v_data)], idx)):\n",
    "        raise ValueError(\"Some of passed points are out of range of interpolation.\")\n",
    "    \n",
    "    v0 = v_data[idx - 1]\n",
    "    v1 = v_data[idx]\n",
    "    t0 = t_data[idx - 1]\n",
    "    t1 = t_data[idx]\n",
    "    dtdv0 = dtdv_data[idx - 1]\n",
    "    dtdv1 = dtdv_data[idx]\n",
    "    \n",
    "    t_est = chspline(V, v0, v1, t0, t1, dtdv0, dtdv1)\n",
    "    \n",
    "    if return_error:\n",
    "        idx_err = np.arange(1, len(data)-1)\n",
    "        v0_err = v_data[idx_err - 1]\n",
    "        v1_err = v_data[idx_err + 1]\n",
    "        t0_err = t_data[idx_err - 1]\n",
    "        t1_err = t_data[idx_err + 1]\n",
    "        dtdv0_err = dtdv_data[idx_err - 1]\n",
    "        dtdv1_err = dtdv_data[idx_err + 1]\n",
    "        t_bs = chspline(v_data[idx_err], v0_err, v1_err, t0_err, t1_err, dtdv0_err, dtdv1_err)\n",
    "        err = np.sqrt(np.power(t_bs - t_data[idx_err], 2).sum() / (len(idx_err) - 1)) \n",
    "        return t_est, err\n",
    "            \n",
    "    \n",
    "    return t_est\n",
    "\n",
    "\n",
    "data = np.loadtxt('lakeshore.txt')\n",
    "\n",
    "vv = np.linspace(data[1][1], data[-2][1], 500)\n",
    "t_est, err = lakeshore(vv, data, return_error=True)\n",
    "plt.plot(vv, t_est, c='r', label=fr'Interpolation with $\\varepsilon \\approx {err:.1f}$')\n",
    "plt.scatter(data[:, 1], data[:, 0], s=15, color='k', marker='x', label=fr'Data with acc. $\\sim${data[1][0] - data[0][0]:.1f}')\n",
    "plt.xlabel('V')\n",
    "plt.ylabel('T')\n",
    "plt.legend()\n",
    "plt.title('Interpolation: general look')\n",
    "plt.show()"
   ]
  },
  {
   "cell_type": "markdown",
   "id": "49f65ed3",
   "metadata": {},
   "source": [
    "# Problem 4\n",
    "\n",
    "Polinomial interpolation shows good result for cos(x) with $\\varepsilon \\sim 10^{-7}$, but it's not good for iterpolation of Lorentzian ($\\varepsilon \\sim 10^{-3}$).\n",
    "\n",
    "Cubic splines interpolation shows stable error both for cos(x) and Lorenzian: $\\varepsilon \\sim 10^{-4}$.\n",
    "\n",
    "Rational function interpolation also shows good result for cos(x) ($\\varepsilon \\sim 10^{-7}$) regardless of which function for matrix inversion do we use. \n",
    "For Lorenzian we can expect $\\varepsilon \\sim \\varepsilon_{\\text{float} } \\approx 10^{-16}$ because $L(x) = \\frac{1}{1 + x^2}$, which is rational function itself.But when using np.linalg.inv the error surprisingly turns out to be $\\sim 1$. Values in p-vector and q-vector also turn out to be large, which means that values in the inverted matrix of coefficients $\\hat{A}$ are also big. Obviously, the problem is in inversion procedure. So the $\\hat{A}$ must be a singular matrix, determinant of which is very close to zero. When we try to compute inverse matrix using straightforward approach, we have small vaule of determinant in the denominator, so result values will be large. This problem can be solved with using np.linalg.pinv, which tries to deal with singular matrices. As a result, after using np.linalg.pinv the error becomes $\\varepsilon \\sim 10^{-15}$, which is very close to the expected value."
   ]
  },
  {
   "cell_type": "code",
   "execution_count": 25,
   "id": "363c7f13",
   "metadata": {},
   "outputs": [],
   "source": [
    "# My own implementation of polynomial interpolation and rational function interpolation. \n",
    "# For cubic splines I used scipy.interpolate.splrep\n",
    "\n",
    "def poly_interp(x, x_data, y_data, inv_func=np.linalg.inv):\n",
    "    X = np.power(x_data.reshape(-1, 1), np.arange(len(x_data + 1))[::-1])\n",
    "    a = inv_func(X) @ y_data\n",
    "    return np.polyval(a, x)\n",
    "\n",
    "def ratio_interp(x, x_data, y_data, n, m, inv_func=np.linalg.inv, return_pq = False):\n",
    "    npt = len(x_data)\n",
    "    if len(y_data) != npt:\n",
    "        raise ValueError(\"x and y must have same dimensions.\")\n",
    "    if n < 0:\n",
    "        raise ValueError(\"n must be >= 0.\")\n",
    "    if m < 0:\n",
    "        raise ValueError(\"m must be >= 0.\")\n",
    "    if m + n + 1 != npt:\n",
    "        raise ValueError(\"m + n + 1 must be equal to len(x).\")\n",
    "    A = np.hstack([\n",
    "            np.power(x_data.reshape(-1, 1), np.arange(n + 1)),\n",
    "            - y_data.reshape(-1, 1) * np.power(x_data.reshape(-1, 1), np.arange(1, m + 1))\n",
    "    ])\n",
    "    pars = inv_func(A) @ y_data\n",
    "    p = pars[:n + 1]\n",
    "    q = pars[n + 1:]\n",
    "    y = np.polyval(p[::-1], x) / (np.polyval(q[::-1], x) * x + 1)\n",
    "    if return_pq:\n",
    "        return y, p, q\n",
    "    return y"
   ]
  },
  {
   "cell_type": "code",
   "execution_count": 26,
   "id": "be0a2776",
   "metadata": {},
   "outputs": [
    {
     "name": "stdout",
     "output_type": "stream",
     "text": [
      "Errors for cos(x) using np.linalg.inv:\n",
      "- Polynomial error:\t1.4e-07\n",
      "- Cubic splines error:\t1.0e-04\n",
      "- Rat. func. error:\t1.9e-07\n",
      "p values: [ 1.00000000e+00  3.65789322e-13 -4.55500018e-01 -1.18637705e-13\n",
      "  2.03514880e-02]\n",
      "q values: [3.44340260e-13 4.44998467e-02 1.83293495e-14 9.35994100e-04]\n",
      "\n",
      "Errors for cos(x) using np.linalg.pinv:\n",
      "- Polynomial error:\t1.4e-07\n",
      "- Cubic splines error:\t1.0e-04\n",
      "- Rat. func. error:\t1.9e-07\n",
      "p values: [ 1.00000000e+00 -4.15590403e-14 -4.55500018e-01 -2.11072659e-14\n",
      "  2.03514880e-02]\n",
      "q values: [ 3.07114930e-14  4.44998467e-02 -6.61068346e-15  9.35994100e-04]\n",
      "\n",
      "Errors for  1 / (1 + x**2) using np.linalg.inv:\n",
      "- Polynomial error:\t7.6e-04\n",
      "- Cubic splines error:\t3.5e-04\n",
      "- Rat. func. error:\t6.6e+00\n",
      "p values: [326.37588235 776.         188.         -19.22415686 -59.34086275]\n",
      "q values: [776. 444. 280. -24.]\n",
      "\n",
      "Errors for  1 / (1 + x**2) using np.linalg.pinv:\n",
      "- Polynomial error:\t7.6e-04\n",
      "- Cubic splines error:\t3.5e-04\n",
      "- Rat. func. error:\t1.0e-15\n",
      "p values: [ 1.00000000e+00  2.77555756e-15 -3.33333333e-01  1.33226763e-15\n",
      "  1.55431223e-15]\n",
      "q values: [ 3.66373598e-15  6.66666667e-01  3.77475828e-15 -3.33333333e-01]\n",
      "\n"
     ]
    }
   ],
   "source": [
    "def calc_print_errors(lbound, rbound, npoints, func, funcstr, inv_func):\n",
    "    \"\"\"\n",
    "    Calculates and print out errors for different interpolation methods.\n",
    "    - [lbound, rbound] - working interval\n",
    "    - npoints - number of points used during interpolation\n",
    "    - func - function to interpolate\n",
    "    - funcstr - name of function (for better readability of the output)\n",
    "    - inv_func - function for matrix inversion: either np.linalg.inv or np.linalg.pinv\n",
    "    \"\"\"\n",
    "    x = np.linspace(lbound, rbound, npoints)\n",
    "    y = func(x)\n",
    "    x_test = np.linspace(lbound, rbound, 100)\n",
    "    y_test = func(x_test)\n",
    "    y_test_poly = poly_interp(x_test, x, y, inv_func=inv_func)\n",
    "    m = len(y) // 2\n",
    "    n = len(y) - m - 1\n",
    "    y_test_ratio, p, q = ratio_interp(x_test, x, y, n, m, inv_func=inv_func, return_pq=True)\n",
    "    spln = splrep(x, y)\n",
    "    y_test_csplines = splev(x_test, spln)\n",
    "    p_err = np.sqrt(np.power((y_test-y_test_poly), 2).sum() / (len(x_test)))\n",
    "    cs_err = np.sqrt(np.power((y_test-y_test_csplines), 2).sum() / (len(x_test)))\n",
    "    rf_err = np.sqrt(np.power((y_test-y_test_ratio), 2).sum() / (len(x_test)))\n",
    "    print(f\"Errors for {funcstr} using np.linalg.{inv_func.__name__}:\")\n",
    "    print(f\"- Polynomial error:\\t{p_err:1.1e}\")\n",
    "    print(f\"- Cubic splines error:\\t{cs_err:1.1e}\")\n",
    "    print(f\"- Rat. func. error:\\t{rf_err:1.1e}\")\n",
    "    print(f\"p values: {p}\")\n",
    "    print(f\"q values: {q}\\n\")\n",
    "\n",
    "\n",
    "\n",
    "calc_print_errors(-np.pi / 2, np.pi / 2, 9, np.cos, 'cos(x)', np.linalg.inv)\n",
    "calc_print_errors(-np.pi / 2, np.pi / 2, 9, np.cos, 'cos(x)', np.linalg.pinv)\n",
    "calc_print_errors(-1, 1, 9, lambda x: 1 / (1 + x**2), ' 1 / (1 + x**2)', np.linalg.inv)\n",
    "calc_print_errors(-1, 1, 9, lambda x: 1 / (1 + x**2), ' 1 / (1 + x**2)', np.linalg.pinv)"
   ]
  }
 ],
 "metadata": {
  "kernelspec": {
   "display_name": "Python 3 (ipykernel)",
   "language": "python",
   "name": "python3"
  },
  "language_info": {
   "codemirror_mode": {
    "name": "ipython",
    "version": 3
   },
   "file_extension": ".py",
   "mimetype": "text/x-python",
   "name": "python",
   "nbconvert_exporter": "python",
   "pygments_lexer": "ipython3",
   "version": "3.8.10"
  }
 },
 "nbformat": 4,
 "nbformat_minor": 5
}
